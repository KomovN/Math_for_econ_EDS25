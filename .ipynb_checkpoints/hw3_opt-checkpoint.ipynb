{
 "cells": [
  {
   "cell_type": "markdown",
   "metadata": {},
   "source": [
    "# Домашнее задание 3 (14 + 26 = 40 pts)"
   ]
  },
  {
   "cell_type": "markdown",
   "metadata": {},
   "source": [
    "## Задача 1 (14 pts)\n",
    "\n",
    "- (1 pts) Покажите, что если матрица $A$ обратима, то $\\|A^{-1}\\|_F \\geq \\frac{\\sqrt{n}}{\\|A\\|_F}$\n",
    "\n",
    "- (3 pts) Рассмотрим матрицу $A = \\begin{bmatrix} I & a \\\\ a^{\\top} & 0 \\end{bmatrix}$. Когда она является обратимой? Пусть она обратима, тогда найдите выражение для $A^{-1}$\n",
    "- (2 pts) Получите аналитически выражение обратной матрицы для следующей блочно-треугольной матрицы\n",
    "\n",
    "$$ \n",
    "\\begin{bmatrix} A_{11} & 0 \\\\ A_{21} & A_{22} \\end{bmatrix}.\n",
    "$$\n",
    "\n",
    "Перечислите требования к блокам, необходимые для существования обратной матрицы.\n",
    "\n",
    "- (2 pts) Рассмотрим матрицу $\\begin{bmatrix} A_1 \\\\ A_2 \\end{bmatrix}$, где матрица $A_1$ невырождена и размера $n \\times n$, а матрица $A_2$ произвольная размера $(m - n) \\times n$. Докажите, что $\\|A^{\\dagger}\\|_2 \\leq \\|A^{-1}_1\\|_2$\n",
    "\n",
    "- (6 pts) Рассмотрим следующую блочную систему линейных уравнений\n",
    "\n",
    "$$\n",
    "\\begin{bmatrix} P & A^{\\top} \\\\ A & 0 \\end{bmatrix} \n",
    "\\begin{bmatrix}\n",
    "u\\\\ v \\end{bmatrix} = \\begin{bmatrix} c\\\\ b \\end{bmatrix} \n",
    "$$\n",
    "\n",
    "Покажите, что каждое из следующих условий эквивалентно невырожденности матрицы системы:\n",
    "\n",
    "- $\\mathcal{N}(A) \\cap \\mathcal{N}(P) = \\{0\\}$, где $\\mathcal{N}(A)$ - ядро матрицы $A$.\n",
    "- существует матрица $F$ такая что $F^{\\top}PF \\succ 0$, и  $F \\in \\mathbb{R}^{n \\times (n-m)}$, $\\mathcal{R}(F) = \\mathcal{N}(A)$, $\\mathcal{R}(F)$ - образ отображения, задаваемого матрицей $F$.\n",
    "- $P + A^{\\top}QA \\succ 0$, для некоторой $Q \\succeq 0$\n"
   ]
  },
  {
   "cell_type": "markdown",
   "metadata": {},
   "source": [
    "### Problem 1\n",
    "\n",
    "Пусть у матрицы $A$ есть обратная. Воспользуемся субмультипликативность нормы Фробениуса \n",
    "\n",
    "$$\n",
    " \\|I_{n}\\|_F = \\|A^{-1}A\\|_F \\leq \\|A^{-1}\\|_F\\|A\\|_F \n",
    "$$\n",
    "\n",
    "Далее, нетрудно вычислить норму Фробениуса для единичной матрицы \n",
    "\n",
    "$$\n",
    " \\|I_{n}\\|_F = \\sqrt{\\text{Tr}I_n^2} = \\sqrt{\\text{Tr}I_n} = \\sqrt{n}\n",
    "$$\n",
    "\n",
    "Следовательно, приходим к требуемому неравенству \n",
    "\n",
    "$$\n",
    " \\|A^{-1}\\|_F \\geq \\cfrac{\\sqrt{n}}{\\|A\\|_F}\n",
    "$$"
   ]
  },
  {
   "cell_type": "markdown",
   "metadata": {},
   "source": [
    "### Problem 2\n",
    "\n",
    "Предположим, что матрица $A$ обратима. Представим обратную в следующем виде \n",
    "\n",
    "$$\n",
    " A^{-1} = \\begin{pmatrix}\n",
    " \\tilde{A} & b \\\\\n",
    " b^T & \\alpha\n",
    " \\end{pmatrix}\n",
    "$$\n",
    "\n",
    "и перемножим ее с $A$\n",
    "\n",
    "$$\n",
    " A^{-1}A = \\begin{pmatrix}\n",
    " \\tilde{A} + ba^T & \\tilde{A}a \\\\\n",
    " b^T + \\alpha a^T & b^Ta\n",
    " \\end{pmatrix} = \n",
    " \\begin{pmatrix}\n",
    " I & 0 \\\\\n",
    " 0 & 1\n",
    " \\end{pmatrix}\n",
    "$$\n",
    "\n",
    "Имеет место система уравнений\n",
    "\n",
    "$$\n",
    " \\begin{cases}\n",
    "  \\tilde{A} + ba^T = I \n",
    "  \\\\\n",
    "  \\tilde{A}a = 0 \n",
    "  \\\\\n",
    "  b^T + \\alpha a^T = 0 \n",
    "  \\\\\n",
    "  b^Ta = 1\n",
    " \\end{cases}\n",
    "$$\n",
    "\n",
    "Нетрудно заметить, что данная система имеет решение тогда и только тогда, когда вектор $a\\ne 0$. В самом деле, если $a = 0$, то не будет разрешимо последнее уравнение. Далее мы покажем, что в данном случае система разрешима и матрица $\\tilde{A}$ будет ортогональным проектором к $a$. Используя третье и четвертое уравнения, придем к выводу, что  \n",
    "\n",
    "$$\n",
    " \\begin{cases}\n",
    "  b = \\cfrac{a}{(a,a)}\n",
    "  \\\\\n",
    "  \\alpha = -\\cfrac{1}{(a,a)}\n",
    " \\end{cases}\n",
    "$$\n",
    "\n",
    "Далее, используя первое уравнение, получим, что \n",
    "\n",
    "$$\n",
    " \\tilde{A} = I - \\cfrac{aa^T}{(a,a)}\n",
    "$$\n",
    "\n",
    "Подействовав данным проектором на вектор $a$ придем к выводу о согласованности второго уравнения\n",
    "\n",
    "$$\n",
    " \\tilde{A}a = \\left(I - \\cfrac{aa^T}{(a,a)}\\right)a = a - a = 0\n",
    "$$\n",
    "\n",
    "Таким образом, мы приходим к выводу, что матрица $A$ имеет обратную тогда и только тогда, когда вектор $a$ ненулевой $a\\ne 0$. Выражение для обратной матрицы $A^{-1}$ имеет вид\n",
    "\n",
    "$$\n",
    " A^{-1} = \\begin{pmatrix}\n",
    "  I - \\cfrac{aa^T}{(a,a)} & \\cfrac{a}{(a,a)} \\\\\n",
    "  \\cfrac{a^T}{(a,a)} & -\\cfrac{1}{(a,a)}\n",
    " \\end{pmatrix}\n",
    "$$"
   ]
  },
  {
   "cell_type": "markdown",
   "metadata": {},
   "source": [
    "### Problem 3\n",
    "\n",
    "Пусть данная матрица имеет обратную. Представим ее в виде \n",
    "\n",
    "$$\n",
    " A^{-1} = \\begin{pmatrix}\n",
    " B_{11} & B_{12} \\\\\n",
    " B_{21} & B_{22}\n",
    " \\end{pmatrix}\n",
    "$$\n",
    "\n",
    "и перемножим с исходной \n",
    "\n",
    "$$\n",
    " A^{-1}A = \\begin{pmatrix}\n",
    " B_{11}A_{11} + B_{12}A_{21} & B_{12}A_{22} \\\\\n",
    " B_{21}A_{11} + B_{22}A_{21} & B_{22}A_{22}\n",
    " \\end{pmatrix} = \n",
    " \\begin{pmatrix}\n",
    "  I_p & 0 \\\\\n",
    "  0 & I_{q}\n",
    " \\end{pmatrix}\n",
    "$$\n",
    "\n",
    "Здесь и далее мы предполагаем, что матрицы $A_{11}$ и $A_{22}$ квадратные с размерами $p\\times p$ и $q\\times q$. Имеет место система уравнений \n",
    "\n",
    "$$\n",
    " \\begin{cases}\n",
    "  B_{11}A_{11} + B_{12}A_{21} = I_p \n",
    "  \\\\\n",
    "  B_{12}A_{22} = 0 \n",
    "  \\\\\n",
    "  B_{21}A_{11} + B_{22}A_{21} = 0 \n",
    "  \\\\\n",
    "  B_{22}A_{22} = I_q\n",
    " \\end{cases}\n",
    "$$\n",
    "\n",
    "Для того, чтобы разрешить второе и четвертое уравнения, необходимо предположить невырожденность $A_{22}$. Тогда \n",
    "\n",
    "$$\n",
    " \\begin{cases}\n",
    " B_{22} = A_{22}^{-1}\n",
    " \\\\\n",
    " B_{12} = 0\n",
    " \\end{cases}\n",
    "$$\n",
    "\n",
    "Теперь, нам осталось разрешить два уравнения \n",
    "\n",
    "$$\n",
    " \\begin{cases}\n",
    "  B_{11}A_{11} = I_p\n",
    "  \\\\\n",
    "  B_{21}A_{11} + B_{22}A_{21} = 0\n",
    " \\end{cases}\n",
    "$$\n",
    "\n",
    "которые будут разрешимы при условии невырожденности $A_{11}$. Окончательно, для обратной матрицы $A^{-1}$ получим \n",
    "\n",
    "$$\n",
    " A^{-1} = \\begin{pmatrix}\n",
    "  A_{11}^{-1} & 0 \\\\\n",
    "  -A_{22}^{-1}A_{21}A_{11}^{-1} & A_{22}^{-1}\n",
    " \\end{pmatrix}\n",
    "$$\n",
    "\n",
    "которая существует при условии невырожденности матриц $A_{11}$ и $A_{22}$"
   ]
  },
  {
   "cell_type": "markdown",
   "metadata": {},
   "source": [
    "### Problem 4 \n",
    "\n",
    "В лекции 4 было доказано, что сингулярное псевдообратной матрицы $A^{\\dagger}$ имеет вид\n",
    "\n",
    "$$\n",
    " A^{\\dagger} = V\\tilde{\\Sigma}U^*\n",
    "$$\n",
    "\n",
    "где $\\tilde{\\Sigma}$ состоит из обращённых ненулевых сингулярных чисел. В дополнение докажем факт про матрицу $\\tilde{\\Sigma}$ рассмотрев предел (недиагональные элементы $\\Sigma$ равны нулю, достаточно рассмотреть только диагональные)\n",
    "\n",
    "$$\n",
    " \\lim\\limits_{\\alpha\\rightarrow 0}\\left((\\alpha I + \\Sigma^2)^{-1}\\Sigma\\right)_{ii} = \\lim\\limits_{\\alpha\\rightarrow 0}\\cfrac{\\Sigma_{ii}}{\\alpha + \\Sigma^2_{ii}} \n",
    "$$\n",
    "\n",
    "как мы видим, если $\\Sigma_{ii}$ то выражение под пределом даст ноль, если же $\\Sigma_{ii} > 0$, то предел даст \n",
    "\n",
    "$$\n",
    " \\lim\\limits_{\\alpha\\rightarrow 0}\\left((\\alpha I + \\Sigma^2)^{-1}\\Sigma\\right)_{ii} = \\cfrac{1}{\\Sigma_{ii}}\n",
    "$$\n",
    "\n",
    "вернемся к исходной задаче. Сингулярные числа матрицы $A$ определяются как собственные значения матрицы $A^{*}A$. Натянем произвольный вектор $x$ на квадратичную форму матрицы $A^{*}A$ и заметим, в силу положительной полуопределенности $A_2^*A_2$, что \n",
    "\n",
    "$$\n",
    " x^TA^*Ax = x^TA_1^*A_1x + x^TA_2^*A_2x \\geq x^TA_1^*A_1x \n",
    "$$\n",
    "\n",
    "Далее, спектральные нормы обратной $A_1^{-1}$ и псевдообратной $A^{\\dagger}$ определяются как (что не сложно заметить из сингулярного разложения)\n",
    "\n",
    "$$\n",
    " \\begin{cases}\n",
    "  \\|A^{\\dagger}\\|_2 = \\cfrac{1}{\\sigma_{\\min}(A^{\\dagger})}\n",
    "  \\\\\n",
    "  \\|A_1^{-1}\\|_2 = \\cfrac{1}{\\sigma_{\\min}(A_1^{-1})}\n",
    " \\end{cases}\n",
    "$$\n",
    "\n",
    "Используя факт, установленный выше, получим\n",
    "\n",
    "$$\n",
    " \\sigma_{\\min}(A^{\\dagger}) = \\min_{\\|x\\| = 1}(x^TA^*Ax) = \\min_{\\|x\\| = 1}(x^TA_1^*A_1x + x^TA_2^*A_2x) \\geq \\min_{\\|x\\| = 1}(x^TA_1^*A_1x) = \\sigma_{\\min}(A_1^{-1})\n",
    "$$\n",
    "\n",
    "Откуда следует, что для норм матриц $A^{\\dagger}$ и $A^{-1}$ справедливо \n",
    "\n",
    "$$\n",
    " \\|A^{\\dagger}\\|_2 \\leq \\|A_1^{-1}\\|_2\n",
    "$$"
   ]
  },
  {
   "cell_type": "markdown",
   "metadata": {},
   "source": [
    "### Problem 5\n",
    "\n",
    "Здесь и далее в этой задаче я предполагаю, что матрица $P$ соответствует положительно полуопределенной матрице $n\\times n$, а матрица $A$ является матрицей $m\\times n$ с полным рангом $\\text{rank}(A) = m \\leq n$. Начнем с первого утверждения\n",
    "\n",
    "1) Предположим, что существует вектор $u$ такой, что \n",
    "\n",
    "$$\n",
    " \\begin{cases}\n",
    "  Au = 0 \n",
    "  \\\\\n",
    "  Pu = 0\n",
    " \\end{cases}\n",
    "$$\n",
    "\n",
    "Возьмем, теперь, вектор $(u,0)^T$ подействуем на него матрицей линейной системы \n",
    "\n",
    "$$\n",
    " \\begin{cases}\n",
    "  Pu + A^T0 = 0 \n",
    "  \\\\\n",
    "  Au = 0\n",
    " \\end{cases}\n",
    "$$\n",
    "\n",
    "Таким образом, мы заключаем ее вырожденность. Далее, предположим, что исходная матрица вырождена, тогда существует вектор $(u,v)^T$ такой, что \n",
    "\n",
    "$$\n",
    " \\begin{cases}\n",
    "  Pu + A^Tv = 0\n",
    "  \\\\\n",
    "  Au = 0\n",
    " \\end{cases}\n",
    "$$\n",
    "\n",
    "Умножим скалярно первое уравнение на $u^T$ и воспользуемся вторым \n",
    "\n",
    "$$\n",
    " u^TPu + u^TA^Tv = u^TPu = 0 \n",
    "$$\n",
    "\n",
    "В силу того, что мы предполагаем $P$ положительно полуопределенной формой, приходим к выводу, что вектор $u$ соответсвует собственному вектору матрицы $P$ с собственным значением 0, то есть принадлежит ядру матрицы $P$. имеем, что для вектора $v$ справедливо \n",
    "\n",
    "$$\n",
    " \\begin{cases}\n",
    " Au = 0 \n",
    " \\\\\n",
    " Pu = 0 \n",
    " \\end{cases}\n",
    "$$\n",
    "\n",
    "Мы доказали, что вырожденность эквивалентна ненулевому пересечению ядер операторов $\\mathcal{N}(P)\\cap\\mathcal{N}(A) \\ne \\{0\\}$. Отсюда нетрудно заключить, что невыржденность матрицы данной системы эквивалентна \n",
    "\n",
    "$$\n",
    " \\mathcal{N}(P)\\cap\\mathcal{N}(A) = \\{0\\}\n",
    "$$\n",
    "\n",
    "Утверждение доказано!\n",
    "\n",
    "2) Пусть выполнено, что существует такая матрица $F$ $\\mathcal{R}(F) = \\mathcal{N}(A)$ такая, что \n",
    "\n",
    "$$\n",
    " F^TPF \\succ 0 \n",
    "$$\n",
    "\n",
    "Предположим, что исходная матрица вырождена. Тогда существует вектор $(u,v)^T$ такой, что \n",
    "\n",
    "$$\n",
    " \\begin{cases}\n",
    " Pu + A^Tv = 0 \n",
    " \\\\\n",
    " Au = 0 \n",
    " \\end{cases}\n",
    "$$\n",
    "\n",
    "Из второго уравнения следует, что вектор $u$ принадлежит ядру оператора $A$, следовательно, из условия, существует вектор x такой, что \n",
    "\n",
    "$$\n",
    " u = Fx\n",
    "$$\n",
    "\n",
    "Домножим первое уравнение скалярно на $u = Fx$ и представим в следующем виде \n",
    "\n",
    "$$\n",
    " x^TF^TPFx + u^TA^Tv = x^TF^TPFx = 0 \n",
    "$$\n",
    "\n",
    "что противоречит положительной определенности $F^TPF$. Пусть, теперь, исходная матрица невырождена. Предположим, что для любого оператора $F$ $\\mathcal{R}(F) = \\mathcal{N}(A)$ справедливо, что форма \n",
    "\n",
    "$$\n",
    " F^TPF \\succeq 0 \n",
    "$$\n",
    "\n",
    "Возьмем вектор $x$ такой, что \n",
    "\n",
    "$$\n",
    " x^TF^TPFx = 0 \n",
    "$$\n",
    "\n",
    "и подействуем матрицей системы на $(Fx,0)^T$. Получим\n",
    "\n",
    "$$\n",
    " \\begin{cases}\n",
    " PFx = 0 \n",
    " \\\\\n",
    " AFx = 0\n",
    " \\end{cases}\n",
    "$$\n",
    "\n",
    "Первое уравнение справедливо по условию. Второе в силу того, что образ $F$ суть ядро оператора $A$. Таким образом, приходим к противоречие. \n",
    "\n",
    "Утверждение доказано!\n",
    "\n",
    "3) Пусть выполнено, что для некоторого $Q\\succeq 0$ \n",
    "\n",
    "$$\n",
    " P + A^TQA \\succ 0\n",
    "$$\n",
    "\n",
    "Предположим, что матрица системы вырождена. Тогда, существует вектор $(u,v)^T$ такой, что \n",
    "\n",
    "$$\n",
    " \\begin{cases}\n",
    " Pu + A^Tv = 0\n",
    " \\\\\n",
    " Au = 0\n",
    " \\end{cases}\n",
    "$$\n",
    "\n",
    "Домножим скалярно первое уравнение на $u$ и получим \n",
    "\n",
    "$$\n",
    " \\begin{cases}\n",
    " u^TPu + u^TA^Tv = u^TPu = 0\n",
    " \\\\\n",
    " Au = 0\n",
    " \\end{cases}\n",
    "$$\n",
    "\n",
    "Далее, используя соотношения выше, натянем вектор $u$ на форму из условия \n",
    "\n",
    "$$\n",
    " u^TPu + u^TAQAu = 0\n",
    "$$\n",
    "\n",
    "Приходим к противоречие. Пусть, теперь, матрица системы невырождена. Предположим, что для любой формы $Q\\succ 0$ справедливо, что \n",
    "\n",
    "$$\n",
    " P + A^TQA \\succeq 0 \n",
    "$$\n",
    "\n",
    "это означает, что существует вектор $u$ такой, что (в силу положительной полуопределенности $P$ и $A^TQA$)\n",
    "\n",
    "$$\n",
    " \\begin{cases}\n",
    " u^TPu = 0 \n",
    " \\\\\n",
    " u^TA^TQAu = 0\n",
    " \\end{cases}\n",
    "$$\n",
    "\n",
    "Далее, в силу строгой положительной определенности $Q$ справедливо, что форма дает ноль только на нулевом векторе. Также для матрицы формы $P$ вектор $u$ является собственным с собственным значением 0. Имеем\n",
    "\n",
    "$$\n",
    " \\begin{cases}\n",
    " Pu = 0 \n",
    " \\\\\n",
    " Au = 0\n",
    " \\end{cases}\n",
    "$$\n",
    "\n",
    "Если мы подействуем матрицей линейной системы на $u$, то получим \n",
    "\n",
    "$$\n",
    " \\begin{cases}\n",
    " Pu = 0 \n",
    " \\\\\n",
    " Au = 0\n",
    " \\end{cases}\n",
    "$$\n",
    "\n",
    "приходим к противоречию. Утверждение доказано!"
   ]
  },
  {
   "cell_type": "markdown",
   "metadata": {},
   "source": [
    "## Задача 2. LU разложение (26 pts)"
   ]
  },
  {
   "cell_type": "markdown",
   "metadata": {},
   "source": [
    "### 1. LU разложение для ленточных матриц (7 pts)\n",
    "\n",
    "Сложность вычисления LU разложения для матрицы размера $n\\times n$ – $\\mathcal{O}(n^3)$.\n",
    "Существенного уменьшения сложности можно добиться для матриц определённой структуры, например разреженных. \n",
    "В этой задаче рассмотрим специальный класс разреженных матриц, а именно ленточные матрицы с шириной ленты 3 и 5, которые называются трёхдиагональными и пятидиагональными, соответственно.\n",
    "\n",
    "- (5 pts) Реализуйте функцию ```band_lu(diag_broadcast, n)```, которая вычисляет LU разложение для пяти- или трёхдиагональной матрицы, на основании данных значений на диагоналях. Предполагается, что на главной диагонали фактора ```L``` стоят 1.\n",
    "Например, входные параметры ```(diag_broadcast = [3,-5,4], n = 4)``` означают, что необходимо найти LU разложение для трёхдиагональной матрицы вида:\n",
    "\n",
    "$$A = \\begin{pmatrix}\n",
    "-5 & 4 & 0 & 0\\\\\n",
    "3 & -5 & 4 & 0 \\\\\n",
    "0 & 3 & -5 & 4 \\\\\n",
    "0 & 0 & 3 & -5 \\\\\n",
    "\\end{pmatrix}.$$\n",
    "\n",
    "Функция должна возвращать двумерные NumPy массивы ```L``` и ```U```, в которых хранятся диагонали факторов. Например, ```L[0]``` содержит первую под-диагональ (поскольку на главной диагонали стоят 1, то её возвращать не нужно), ```L[1]``` – вторую под-диагональ и т.д.), аналогично для $U$ (```U[:,0]``` содержит главную диагональ, ```U[:,1]``` содержит первую над-диагональ и т.д.). Прототип функции приведён ниже и не должен меняться.\n",
    "- (2 pts) Сравните время вычисления LU разложения с помощью стандартной функции в ```scipy```, которая ничего не знает о структуре матрицы, и вашей реализацией LU разложения для ленточной матрицы. Объясните результат. Постройте график зависимости времени факторизации от размерности факторизуемой матрицы. Выберите интервал размерностей факторизуемой матрицы так, чтобы динамика зависимости времени от размерности была различима. При необходимости используйте логарифмический масштаб по оси ```y```."
   ]
  },
  {
   "cell_type": "markdown",
   "metadata": {},
   "source": [
    "Играя с методом Гаусса нетрудно установить, что проявляется следующий паттерн (для трехдиагональных матриц)\n",
    "\n",
    "$$\n",
    " \\begin{pmatrix}\n",
    " b & c & 0 & 0 & \\ldots & 0 \\\\\n",
    " a & b & c & 0 & \\ldots & 0 \\\\\n",
    " 0 & a & b & c & \\ldots & 0 \\\\\n",
    " 0 & 0 & a & b & \\ldots & 0 \\\\\n",
    " \\vdots & \\vdots & \\vdots & \\vdots & \\ddots & \\vdots \\\\\n",
    " 0 & 0 & 0 & 0 & \\ldots & b\n",
    " \\end{pmatrix} = \n",
    " \\begin{pmatrix}\n",
    " 1 & 0 & 0 & 0 & \\ldots & 0 \\\\\n",
    " l_1 & 1 & 0 & 0 & \\ldots & 0 \\\\\n",
    " 0 & l_2 & 1 & 0 & \\ldots & 0 \\\\\n",
    " 0 & 0 & l_3 & 1 & \\ldots & 0 \\\\\n",
    " \\vdots & \\vdots & \\vdots & \\vdots & \\ddots & \\vdots \\\\\n",
    " 0 & 0 & 0 & 0 & \\ldots & 1\n",
    " \\end{pmatrix} \n",
    " \\begin{pmatrix}\n",
    " u_1 & c & 0 & 0 & \\ldots & 0 \\\\\n",
    " 0 & u_2 & c & 0 & \\ldots & 0 \\\\\n",
    " 0 & 0 & u_3 & c & \\ldots & 0 \\\\\n",
    " 0 & 0 & 0 & u_4 & \\ldots & 0 \\\\\n",
    " \\vdots & \\vdots & \\vdots & \\vdots & \\ddots & \\vdots \\\\\n",
    " 0 & 0 & 0 & 0 & \\ldots & u_n\n",
    " \\end{pmatrix}\n",
    "$$\n",
    "\n",
    "Таким образом, нетрудно заметить, что\n",
    "\n",
    "$$\n",
    " \\begin{cases}\n",
    "  u_1 = 0\n",
    "  \\\\\n",
    "  l_i = \\cfrac{a}{u_i} \\quad i=1,\\ldots,n-1\n",
    "  \\\\\n",
    "  u_i = b - l_{i-1}c \\quad i=2,\\ldots,n\n",
    " \\end{cases}\n",
    "$$\n",
    "\n",
    "Из данной системы мы замечаем, что для матрицы такого вида возможно вычислить LU-разложение за линейное время (не за $O(n^3)$ как в случае с обычным LU).\n",
    "\n",
    "Далее, для пятидиагональной матрицы имеет место схожий паттерн \n",
    "\n",
    "$$\n",
    " \\begin{pmatrix}\n",
    " c & d & e & 0 & 0 & 0 & 0 & \\ldots & 0 \\\\\n",
    " b & c & d & e & 0 & 0 & 0 & \\ldots & 0 \\\\\n",
    " a & b & c & d & e & 0 & 0 & \\ldots & 0 \\\\\n",
    " 0 & a & b & c & d & e & 0 & \\ldots & 0 \\\\\n",
    " 0 & 0 & a & b & c & d & e & \\ldots & 0 \\\\\n",
    " 0 & 0 & 0 & a & b & c & d & \\ldots & 0 \\\\\n",
    " 0 & 0 & 0 & 0 & a & b & c & \\ldots & 0 \\\\\n",
    " \\vdots & \\vdots & \\vdots & \\vdots & \\vdots & \\vdots & \\vdots & \\ddots & \\vdots \\\\\n",
    " 0 & 0 & 0 & 0 & 0 & 0 & 0 & \\ldots & c\n",
    " \\end{pmatrix} = \n",
    " \\begin{pmatrix}\n",
    " 1 & 0 & 0 & 0 & 0 & 0 & 0 & \\ldots & 0 \\\\\n",
    " l_1 & 1 & 0 & 0 & 0 & 0 & 0 & \\ldots & 0 \\\\\n",
    " m_1 & l_2 & 1 & 0 & 0 & 0 & 0 & \\ldots & 0 \\\\\n",
    " 0 & m_2 & l_3 & 1 & 0 & 0 & 0 & \\ldots & 0 \\\\\n",
    " 0 & 0 & m_3 & l_4 & 1 & 0 & 0 & \\ldots & 0 \\\\\n",
    " 0 & 0 & 0 & m_4 & l_5 & 1 & 0 & \\ldots & 0 \\\\\n",
    " 0 & 0 & 0 & 0 & m_5 & l_6 & 1 & \\ldots & 0 \\\\\n",
    " \\vdots & \\vdots & \\vdots & \\vdots & \\vdots & \\vdots & \\vdots & \\ddots & \\vdots \\\\\n",
    " 0 & 0 & 0 & 0 & 0 & 0 & 0 & \\ldots & 1\n",
    " \\end{pmatrix}\n",
    " \\begin{pmatrix}\n",
    " u_1 & v_1 & e & 0 & 0 & 0 & 0 & \\ldots & 0 \\\\\n",
    " 0 & u_2 & v_2 & e & 0 & 0 & 0 & \\ldots & 0 \\\\\n",
    " 0 & 0 & u_3 & v_3 & e & 0 & 0 & \\ldots & 0 \\\\\n",
    " 0 & 0 & 0 & u_4 & v_4 & e & 0 & \\ldots & 0 \\\\\n",
    " 0 & 0 & 0 & 0 & u_5 & v_5 & e & \\ldots & 0 \\\\\n",
    " 0 & 0 & 0 & 0 & 0 & u_6 & v_6 & \\ldots & 0 \\\\\n",
    " 0 & 0 & 0 & 0 & 0 & 0 & u_7 & \\ldots & 0 \\\\\n",
    " \\vdots & \\vdots & \\vdots & \\vdots & \\vdots & \\vdots & \\vdots & \\ddots & \\vdots \\\\\n",
    " 0 & 0 & 0 & 0 & 0 & 0 & 0 & \\ldots & u_n\n",
    " \\end{pmatrix}\n",
    "$$\n",
    "\n",
    "Имеет место линейная система \n",
    "\n",
    "$$\n",
    " \\begin{cases}\n",
    "  u_1 = c \n",
    "  \\\\ \n",
    "  v_1 = d \n",
    "  \\\\\n",
    "  l_1 = \\cfrac{b}{c}\n",
    "  \\\\\n",
    "  u_2 = c - l_1v_1\n",
    "  \\\\\n",
    "  m_{i} = \\cfrac{a}{u_i} \\quad i=1,\\ldots,n-2\n",
    "  \\\\\n",
    "  l_i = \\cfrac{b - v_{i-1}k_{i-1}}{u_{i}} \\quad i=2,\\ldots,n-1\n",
    "  \\\\\n",
    "  v_i = d - el_{i-1} \\quad i=2,\\ldots,n-1\n",
    "  \\\\\n",
    "  u_i = c - l_{i-1}v_{i-1} - em_{i-2} \\quad i=3,\\ldots, n\n",
    " \\end{cases}\n",
    "$$\n",
    "\n",
    "Что снова дает нам выигрыш, так как прогон по этой системе будет осуществляться за линейное время. Приступим к реализации"
   ]
  },
  {
   "cell_type": "code",
   "execution_count": 251,
   "metadata": {},
   "outputs": [],
   "source": [
    "# INPUT : diag_broadcast - list of diagonals value to broadcast, length equal to 3 or 5; n - integer, band matrix shape.\n",
    "# OUTPUT : L - 2D np.ndarray, L.shape[0] depends on bandwidth, L.shape[1] = n-1, do not store main diagonal, where all ones;                  add zeros to the right side of rows to handle with changing length of diagonals.\n",
    "#          U - 2D np.ndarray, U.shape[0] = n, U.shape[1] depends on bandwidth;\n",
    "#              add zeros to the bottom of columns to handle with changing length of diagonals.\n",
    "def band_lu(diag_broadcast, n):\n",
    "    broad = diag_broadcast\n",
    "    \n",
    "    if len(diag_broadcast) == 3:\n",
    "        u_arr = [broad[1]]\n",
    "        l_arr = []\n",
    "        c_arr = [broad[2] for t in range(n-1)]\n",
    "        \n",
    "        for i in range(n-1): \n",
    "            l_arr.append(broad[0]/u_arr[i])\n",
    "            u_arr.append(broad[1] - broad[2]*l_arr[i])\n",
    "         \n",
    "        '''\n",
    "        Для проверки выдавал матрицы в \"фундаментальном представлении\"\n",
    "        L = np.diag(l_arr, k = -1)\n",
    "        L = L + np.eye(n)\n",
    "        U = np.diag(u_arr)\n",
    "        U = U + np.diag(c_arr, k = 1)\n",
    "        '''\n",
    "        \n",
    "        U = np.zeros((n, 2))\n",
    "        L = np.zeros((1,n-1))\n",
    "        L[0] = np.array(l_arr)\n",
    "        U[:,0] = np.array(u_arr)\n",
    "        U[:-1,1] = np.array(c_arr)\n",
    "        \n",
    "        return L, U  \n",
    "    \n",
    "    if len(diag_broadcast) == 5: \n",
    "        u_arr = [broad[2]]\n",
    "        v_arr = [broad[3]]\n",
    "        l_arr = [broad[1]/broad[2]]\n",
    "        u_arr.append(broad[2] - v_arr[0]*l_arr[0])\n",
    "        m_arr = []\n",
    "        e_arr = [broad[4] for t in range(n-2)]\n",
    "        \n",
    "        for i in range(n-2): \n",
    "            m_arr.append(broad[0]/u_arr[i])\n",
    "            l_arr.append((broad[1] - v_arr[i]*m_arr[i])/u_arr[i+1])\n",
    "            v_arr.append(broad[3] - broad[4]*l_arr[i])\n",
    "            u_arr.append(broad[2] - l_arr[i+1]*v_arr[i+1] - broad[4]*m_arr[i])\n",
    "         \n",
    "        '''\n",
    "        Для проверки выдавал матрицы в \"фундаментальном представлении\"\n",
    "        L = np.diag(l_arr, k = -1)\n",
    "        L = L + np.diag(m_arr, k = -2)\n",
    "        L = L + np.eye(n)\n",
    "        \n",
    "        U = np.diag(u_arr)\n",
    "        U = U + np.diag(v_arr, k = 1)\n",
    "        U = U + np.diag(e_arr, k = 2)\n",
    "        '''\n",
    "        \n",
    "        U = np.zeros((n, 3))\n",
    "        L = np.zeros((2,n-1))\n",
    "        L[0] = np.array(l_arr)\n",
    "        L[1,:-1] = np.array(m_arr)\n",
    "        U[:,0] = np.array(u_arr)\n",
    "        U[:-1,1] = np.array(v_arr)\n",
    "        U[:-2,2] = np.array(e_arr)\n",
    "        \n",
    "        return L, U"
   ]
  },
  {
   "cell_type": "code",
   "execution_count": 255,
   "metadata": {},
   "outputs": [],
   "source": [
    "L, U = band_lu([7, 2, 1, 4, 6], 6)"
   ]
  },
  {
   "cell_type": "code",
   "execution_count": 252,
   "metadata": {},
   "outputs": [],
   "source": [
    "L, U = band_lu([7, 2, 1], 6)"
   ]
  },
  {
   "cell_type": "code",
   "execution_count": 263,
   "metadata": {},
   "outputs": [],
   "source": [
    "from scipy.linalg import lu\n",
    "import time"
   ]
  },
  {
   "cell_type": "code",
   "execution_count": 284,
   "metadata": {},
   "outputs": [
    {
     "ename": "KeyboardInterrupt",
     "evalue": "",
     "output_type": "error",
     "traceback": [
      "\u001b[1;31m---------------------------------------------------------------------------\u001b[0m",
      "\u001b[1;31mKeyboardInterrupt\u001b[0m                         Traceback (most recent call last)",
      "\u001b[1;32m<ipython-input-284-68ee47c7549b>\u001b[0m in \u001b[0;36m<module>\u001b[1;34m\u001b[0m\n\u001b[0;32m     17\u001b[0m     \u001b[0mA\u001b[0m \u001b[1;33m=\u001b[0m \u001b[0mA\u001b[0m \u001b[1;33m+\u001b[0m \u001b[0mnp\u001b[0m\u001b[1;33m.\u001b[0m\u001b[0mdiag\u001b[0m\u001b[1;33m(\u001b[0m\u001b[0mdiags\u001b[0m\u001b[1;33m[\u001b[0m\u001b[1;36m2\u001b[0m\u001b[1;33m]\u001b[0m\u001b[1;33m,\u001b[0m \u001b[1;36m1\u001b[0m\u001b[1;33m)\u001b[0m\u001b[1;33m\u001b[0m\u001b[1;33m\u001b[0m\u001b[0m\n\u001b[0;32m     18\u001b[0m     \u001b[0mt0\u001b[0m \u001b[1;33m=\u001b[0m \u001b[0mtime\u001b[0m\u001b[1;33m.\u001b[0m\u001b[0mtime\u001b[0m\u001b[1;33m(\u001b[0m\u001b[1;33m)\u001b[0m\u001b[1;33m\u001b[0m\u001b[1;33m\u001b[0m\u001b[0m\n\u001b[1;32m---> 19\u001b[1;33m     \u001b[0mscipy\u001b[0m\u001b[1;33m.\u001b[0m\u001b[0mlinalg\u001b[0m\u001b[1;33m.\u001b[0m\u001b[0mlu\u001b[0m\u001b[1;33m(\u001b[0m\u001b[0mA\u001b[0m\u001b[1;33m)\u001b[0m\u001b[1;33m\u001b[0m\u001b[1;33m\u001b[0m\u001b[0m\n\u001b[0m\u001b[0;32m     20\u001b[0m     \u001b[0mtime_lu\u001b[0m\u001b[1;33m.\u001b[0m\u001b[0mappend\u001b[0m\u001b[1;33m(\u001b[0m\u001b[0mtime\u001b[0m\u001b[1;33m.\u001b[0m\u001b[0mtime\u001b[0m\u001b[1;33m(\u001b[0m\u001b[1;33m)\u001b[0m \u001b[1;33m-\u001b[0m \u001b[0mt0\u001b[0m\u001b[1;33m)\u001b[0m\u001b[1;33m\u001b[0m\u001b[1;33m\u001b[0m\u001b[0m\n",
      "\u001b[1;32mC:\\ProgramData\\Anaconda3\\lib\\site-packages\\scipy\\linalg\\decomp_lu.py\u001b[0m in \u001b[0;36mlu\u001b[1;34m(a, permute_l, overwrite_a, check_finite)\u001b[0m\n\u001b[0;32m    213\u001b[0m     \u001b[0moverwrite_a\u001b[0m \u001b[1;33m=\u001b[0m \u001b[0moverwrite_a\u001b[0m \u001b[1;32mor\u001b[0m \u001b[1;33m(\u001b[0m\u001b[0m_datacopied\u001b[0m\u001b[1;33m(\u001b[0m\u001b[0ma1\u001b[0m\u001b[1;33m,\u001b[0m \u001b[0ma\u001b[0m\u001b[1;33m)\u001b[0m\u001b[1;33m)\u001b[0m\u001b[1;33m\u001b[0m\u001b[1;33m\u001b[0m\u001b[0m\n\u001b[0;32m    214\u001b[0m     \u001b[0mflu\u001b[0m\u001b[1;33m,\u001b[0m \u001b[1;33m=\u001b[0m \u001b[0mget_flinalg_funcs\u001b[0m\u001b[1;33m(\u001b[0m\u001b[1;33m(\u001b[0m\u001b[1;34m'lu'\u001b[0m\u001b[1;33m,\u001b[0m\u001b[1;33m)\u001b[0m\u001b[1;33m,\u001b[0m \u001b[1;33m(\u001b[0m\u001b[0ma1\u001b[0m\u001b[1;33m,\u001b[0m\u001b[1;33m)\u001b[0m\u001b[1;33m)\u001b[0m\u001b[1;33m\u001b[0m\u001b[1;33m\u001b[0m\u001b[0m\n\u001b[1;32m--> 215\u001b[1;33m     \u001b[0mp\u001b[0m\u001b[1;33m,\u001b[0m \u001b[0ml\u001b[0m\u001b[1;33m,\u001b[0m \u001b[0mu\u001b[0m\u001b[1;33m,\u001b[0m \u001b[0minfo\u001b[0m \u001b[1;33m=\u001b[0m \u001b[0mflu\u001b[0m\u001b[1;33m(\u001b[0m\u001b[0ma1\u001b[0m\u001b[1;33m,\u001b[0m \u001b[0mpermute_l\u001b[0m\u001b[1;33m=\u001b[0m\u001b[0mpermute_l\u001b[0m\u001b[1;33m,\u001b[0m \u001b[0moverwrite_a\u001b[0m\u001b[1;33m=\u001b[0m\u001b[0moverwrite_a\u001b[0m\u001b[1;33m)\u001b[0m\u001b[1;33m\u001b[0m\u001b[1;33m\u001b[0m\u001b[0m\n\u001b[0m\u001b[0;32m    216\u001b[0m     \u001b[1;32mif\u001b[0m \u001b[0minfo\u001b[0m \u001b[1;33m<\u001b[0m \u001b[1;36m0\u001b[0m\u001b[1;33m:\u001b[0m\u001b[1;33m\u001b[0m\u001b[1;33m\u001b[0m\u001b[0m\n\u001b[0;32m    217\u001b[0m         raise ValueError('illegal value in %dth argument of '\n",
      "\u001b[1;31mKeyboardInterrupt\u001b[0m: "
     ]
    }
   ],
   "source": [
    "#Поработаем для примера с трехдиагональными \n",
    "\n",
    "time_band = []\n",
    "time_lu = []\n",
    "\n",
    "sizes = [int(10*t + 100) for t in range(1000)]\n",
    "count = 0\n",
    "for n in sizes:\n",
    "    t0 = time.time()\n",
    "    band_lu([7, 2, 1], n)\n",
    "    time_band.append(time.time() - t0)\n",
    "\n",
    "    diags = [np.array([2 for i in range(n)]), np.array([7 for i in range(n-1)]), np.array([1 for i in range(n-1)])]\n",
    "    \n",
    "    A = np.diag(diags[0])\n",
    "    A = A + np.diag(diags[1],-1)\n",
    "    A = A + np.diag(diags[2], 1)\n",
    "    t0 = time.time()\n",
    "    scipy.linalg.lu(A)\n",
    "    time_lu.append(time.time() - t0)"
   ]
  },
  {
   "cell_type": "code",
   "execution_count": 286,
   "metadata": {},
   "outputs": [
    {
     "data": {
      "text/plain": [
       "533"
      ]
     },
     "execution_count": 286,
     "metadata": {},
     "output_type": "execute_result"
    }
   ],
   "source": [
    "#Немного не успевал \n",
    "len(time_band)"
   ]
  },
  {
   "cell_type": "code",
   "execution_count": 287,
   "metadata": {},
   "outputs": [
    {
     "data": {
      "text/plain": [
       "[<matplotlib.lines.Line2D at 0x17c047c0>]"
      ]
     },
     "execution_count": 287,
     "metadata": {},
     "output_type": "execute_result"
    },
    {
     "data": {
      "image/png": "[encoded data removed]",
      "text/plain": [
       "<Figure size 864x504 with 1 Axes>"
      ]
     },
     "metadata": {
      "needs_background": "light"
     },
     "output_type": "display_data"
    }
   ],
   "source": [
    "plt.figure(figsize = (12,7))\n",
    "\n",
    "plt.plot(sizes[:500], time_lu[:500])\n",
    "plt.plot(sizes[:500], time_band[:500])"
   ]
  },
  {
   "cell_type": "code",
   "execution_count": 290,
   "metadata": {},
   "outputs": [
    {
     "name": "stderr",
     "output_type": "stream",
     "text": [
      "<ipython-input-290-8140a1fa5f5d>:3: RuntimeWarning: divide by zero encountered in log\n",
      "  plt.plot(sizes[:500], np.log(np.array(time_lu[:500])))\n",
      "<ipython-input-290-8140a1fa5f5d>:4: RuntimeWarning: divide by zero encountered in log\n",
      "  plt.plot(sizes[:500], np.log(np.array(time_band[:500])))\n"
     ]
    },
    {
     "data": {
      "text/plain": [
       "[<matplotlib.lines.Line2D at 0x17f5f340>]"
      ]
     },
     "execution_count": 290,
     "metadata": {},
     "output_type": "execute_result"
    },
    {
     "data": {
      "image/png": "[encoded data removed]",
      "text/plain": [
       "<Figure size 864x504 with 1 Axes>"
      ]
     },
     "metadata": {
      "needs_background": "light"
     },
     "output_type": "display_data"
    }
   ],
   "source": [
    "plt.figure(figsize = (12,7))\n",
    "\n",
    "plt.plot(sizes[:500], np.log(np.array(time_lu[:500])))\n",
    "plt.plot(sizes[:500], np.log(np.array(time_band[:500])))"
   ]
  },
  {
   "cell_type": "code",
   "execution_count": 288,
   "metadata": {},
   "outputs": [
    {
     "data": {
      "text/plain": [
       "[<matplotlib.lines.Line2D at 0x17c52d30>]"
      ]
     },
     "execution_count": 288,
     "metadata": {},
     "output_type": "execute_result"
    },
    {
     "data": {
      "image/png": "[encoded data removed]",
      "text/plain": [
       "<Figure size 864x504 with 1 Axes>"
      ]
     },
     "metadata": {
      "needs_background": "light"
     },
     "output_type": "display_data"
    }
   ],
   "source": [
    "#Выведем только наш алгоритм\n",
    "plt.figure(figsize = (12,7))\n",
    "\n",
    "plt.plot(sizes[:500], time_band[:500])"
   ]
  },
  {
   "cell_type": "markdown",
   "metadata": {},
   "source": [
    "Вот это хороший выигрыш!!!\n",
    "\n",
    "Результат объясняется просто, подобранный нами алгоритм требует всего один прогон цикла. Следовательно, его сложность будет линейной\n",
    "\n",
    "$$\n",
    " T(n) = O(n)\n",
    "$$\n",
    "\n",
    "Алгоритм же общий дает сложность $O(n^3)$"
   ]
  },
  {
   "cell_type": "markdown",
   "metadata": {},
   "source": [
    "### 2. Устойчивость LU разложения (13 pts)\n",
    "\n",
    "Рассмотрим матрицу вида\n",
    "$A = \\begin{pmatrix}\n",
    "\\varepsilon & 1 & 0\\\\\n",
    "1 & 1 & 1 \\\\\n",
    "0 & 1 & 1\n",
    "\\end{pmatrix}.$ \n",
    "* (7 pts) Реализуйте алгоритм вычисления LU разложения без выбора ведущего элемента и с выбором (выберете один из способов, рассмотренных на лекции). Обратите внимание на эффективность вашей реализации, в частности перестановки необходио хранить как векторы, а не матрицы.\n",
    "* (3 pts) Покажите, что ваши реализации работают корректно и согласуются с теорией, то есть вычислите выражение $\\| A - PLUQ\\|_F$ для тестовых примеров (один их них приведён выше)\n",
    "* (3 pts) Объясните, почему алгоритм вычисления LU разложения без выбора ведущего элемента плохо аппроксимирует факторы $L$ и $U$ для $|\\varepsilon|\\ll 1$ в приведённой выше матрице в машинной арифметике? Покажите это явным вычислением."
   ]
  },
  {
   "cell_type": "code",
   "execution_count": 133,
   "metadata": {},
   "outputs": [],
   "source": [
    "import numpy as np \n",
    "\n",
    "epsilon = 2\n",
    "M = np.matrix([[epsilon, 1, 0], [1, 1, 1], [0, 1, 1]])\n",
    "n = M.shape[0]"
   ]
  },
  {
   "cell_type": "markdown",
   "metadata": {},
   "source": [
    "### Стандартный LU "
   ]
  },
  {
   "cell_type": "code",
   "execution_count": 134,
   "metadata": {},
   "outputs": [],
   "source": [
    "def lu_standard(M):\n",
    "    n = M.shape[0]\n",
    "\n",
    "    U = np.zeros((n,n))\n",
    "    L = np.eye(n)\n",
    "\n",
    "    for i in range(n): \n",
    "        for j in range(n): \n",
    "            if i <= j: \n",
    "                U[i,j] = M[i,j] - L[i,:i] @ U[:i,j]\n",
    "            elif i > j: \n",
    "                L[i,j] = (M[i,j] - L[i, :j] @ U[:j, j])/U[j,j]\n",
    "                \n",
    "    return L, U"
   ]
  },
  {
   "cell_type": "code",
   "execution_count": 135,
   "metadata": {},
   "outputs": [
    {
     "data": {
      "text/plain": [
       "True"
      ]
     },
     "execution_count": 135,
     "metadata": {},
     "output_type": "execute_result"
    }
   ],
   "source": [
    "L, U = lu_standard(M)\n",
    "(L @ U == M).all()"
   ]
  },
  {
   "cell_type": "markdown",
   "metadata": {},
   "source": [
    "### Метод PLUQ"
   ]
  },
  {
   "cell_type": "code",
   "execution_count": 136,
   "metadata": {},
   "outputs": [],
   "source": [
    "def PLUQ(M):\n",
    "    n = M.shape[0]\n",
    "\n",
    "    perm = M.copy()\n",
    "    P = np.array([t for t in range(n)])\n",
    "    Q = np.array([t for t in range(n)])\n",
    "    \n",
    "    #Вычисление перестановок\n",
    "    for i in range(n): \n",
    "        ind = np.argwhere(perm[i:,i:] == perm[i:,i:].max())[0].tolist() \n",
    "        ind[0] = ind[0] + i\n",
    "        ind[1] = ind[1] + i\n",
    "        perm[[i, ind[0]],:] = perm[[ind[0], i],:]\n",
    "        P[[i, ind[0]]] = P[[ind[0], i]]\n",
    "        perm[:,[i, ind[1]]] = perm[:, [ind[1],i]]\n",
    "        Q[[i, ind[1]]] = Q[[ind[1],i]]\n",
    "\n",
    "    #Вычисление LU разложения для переставленной матрицы perm\n",
    "    U = np.zeros((n,n))\n",
    "    L = np.eye(n)\n",
    "    for i in range(n): \n",
    "        for j in range(n): \n",
    "            if i <= j: \n",
    "                U[i,j] = perm[i,j] - L[i,:i] @ U[:i,j]\n",
    "            elif i > j: \n",
    "                L[i,j] = (perm[i,j] - L[i, :j] @ U[:j, j])/U[j,j]\n",
    "                \n",
    "    return P, L, U, Q"
   ]
  },
  {
   "cell_type": "code",
   "execution_count": 137,
   "metadata": {},
   "outputs": [],
   "source": [
    "P, L, U, Q = PLUQ(M)"
   ]
  },
  {
   "cell_type": "code",
   "execution_count": 139,
   "metadata": {},
   "outputs": [],
   "source": [
    "LU_mat = L @ U\n",
    "id_ord = [t for t in range(n)]\n",
    "\n",
    "'''\n",
    "P_t = []\n",
    "Q_t = []\n",
    "\n",
    "for i in range(n): \n",
    "    P_t.append(np.where(P == i)[0][0])\n",
    "    Q_t.append(np.where(Q == i)[0][0])\n",
    "LU_mat[:,id_ord] = LU_mat[:, Q_t]\n",
    "LU_mat[id_ord, :] = LU_mat[P_t, :]\n",
    "'''\n",
    "\n",
    "LU_mat[:,Q] = LU_mat[:, id_ord]\n",
    "LU_mat[P, :] = LU_mat[id_ord, :]"
   ]
  },
  {
   "cell_type": "code",
   "execution_count": 140,
   "metadata": {},
   "outputs": [
    {
     "data": {
      "text/plain": [
       "True"
      ]
     },
     "execution_count": 140,
     "metadata": {},
     "output_type": "execute_result"
    }
   ],
   "source": [
    "(LU_mat == M).all()"
   ]
  },
  {
   "cell_type": "markdown",
   "metadata": {},
   "source": [
    "### Корректность "
   ]
  },
  {
   "cell_type": "code",
   "execution_count": 151,
   "metadata": {},
   "outputs": [],
   "source": [
    "M = np.random.normal(size = (5,5))\n",
    "M = np.matrix(M)\n",
    "n = M.shape[0]"
   ]
  },
  {
   "cell_type": "code",
   "execution_count": 152,
   "metadata": {},
   "outputs": [
    {
     "data": {
      "text/plain": [
       "matrix([[ 0.59789635,  0.27976461, -0.76656527,  0.56111538, -1.36690888],\n",
       "        [ 1.9767764 ,  1.46940205,  0.94079242, -0.07547292,  2.22509614],\n",
       "        [ 0.7988043 ,  0.24810166,  2.41950763,  0.343008  ,  0.2392927 ],\n",
       "        [ 0.75273328, -1.05927487,  1.76213576,  0.86829291, -0.69753222],\n",
       "        [-0.6419739 ,  0.70495159, -0.77973474,  0.90206251,  0.26122908]])"
      ]
     },
     "execution_count": 152,
     "metadata": {},
     "output_type": "execute_result"
    }
   ],
   "source": [
    "M"
   ]
  },
  {
   "cell_type": "code",
   "execution_count": 153,
   "metadata": {},
   "outputs": [
    {
     "data": {
      "text/plain": [
       "2.471493356579895e-15"
      ]
     },
     "execution_count": 153,
     "metadata": {},
     "output_type": "execute_result"
    }
   ],
   "source": [
    "L, U = lu_standard(M)\n",
    "np.linalg.norm(M - L @ U)"
   ]
  },
  {
   "cell_type": "code",
   "execution_count": 154,
   "metadata": {},
   "outputs": [],
   "source": [
    "P, L, U, Q = PLUQ(M)"
   ]
  },
  {
   "cell_type": "code",
   "execution_count": 155,
   "metadata": {},
   "outputs": [
    {
     "data": {
      "text/plain": [
       "6.497413668604471e-16"
      ]
     },
     "execution_count": 155,
     "metadata": {},
     "output_type": "execute_result"
    }
   ],
   "source": [
    "LU_mat = L @ U\n",
    "id_ord = [t for t in range(n)]\n",
    "\n",
    "LU_mat[:,Q] = LU_mat[:, id_ord]\n",
    "LU_mat[P, :] = LU_mat[id_ord, :]\n",
    "np.linalg.norm(M - LU_mat)"
   ]
  },
  {
   "cell_type": "markdown",
   "metadata": {},
   "source": [
    "### Устойчивость"
   ]
  },
  {
   "cell_type": "code",
   "execution_count": 157,
   "metadata": {},
   "outputs": [],
   "source": [
    "import matplotlib.pyplot as plt"
   ]
  },
  {
   "cell_type": "code",
   "execution_count": 190,
   "metadata": {},
   "outputs": [],
   "source": [
    "epsilons = [10e-20*t + 10e-20 for t in range(5000)]\n",
    "LU_Frob = []\n",
    "PLUQ_Frob = []\n",
    "id_ord = [t for t in range(n)]\n",
    "n = 3\n",
    "\n",
    "for eps in epsilons: \n",
    "    M = np.matrix([[eps, 1, 0], [1, 1, 1], [0, 1, 1]])\n",
    "    L, U = lu_standard(M)\n",
    "    LU_Frob.append(np.linalg.norm(M - L @ U))\n",
    "    P, L, U, Q = PLUQ(M)\n",
    "    LU_mat = L @ U\n",
    "    LU_mat[:,Q] = LU_mat[:, id_ord]\n",
    "    LU_mat[P, :] = LU_mat[id_ord, :]\n",
    "    PLUQ_Frob.append(np.linalg.norm(M - LU_mat))"
   ]
  },
  {
   "cell_type": "code",
   "execution_count": 191,
   "metadata": {},
   "outputs": [
    {
     "data": {
      "text/plain": [
       "Text(0.5, 1.0, 'Расстояние Фробениуса между M и LU как функция от epsilon')"
      ]
     },
     "execution_count": 191,
     "metadata": {},
     "output_type": "execute_result"
    },
    {
     "data": {
      "image/png": "[encoded data removed]",
      "text/plain": [
       "<Figure size 864x504 with 1 Axes>"
      ]
     },
     "metadata": {
      "needs_background": "light"
     },
     "output_type": "display_data"
    }
   ],
   "source": [
    "plt.figure(figsize = (12,7))\n",
    "\n",
    "plt.plot(epsilons, LU_Frob)\n",
    "plt.title('Расстояние Фробениуса между M и LU как функция от epsilon')"
   ]
  },
  {
   "cell_type": "code",
   "execution_count": 192,
   "metadata": {},
   "outputs": [
    {
     "data": {
      "text/plain": [
       "Text(0.5, 1.0, 'Расстояние Фробениуса между M и PLUQ как функция от epsilon')"
      ]
     },
     "execution_count": 192,
     "metadata": {},
     "output_type": "execute_result"
    },
    {
     "data": {
      "image/png": "[encoded data removed]",
      "text/plain": [
       "<Figure size 864x504 with 1 Axes>"
      ]
     },
     "metadata": {
      "needs_background": "light"
     },
     "output_type": "display_data"
    }
   ],
   "source": [
    "plt.figure(figsize = (12,7))\n",
    "\n",
    "plt.plot(epsilons, PLUQ_Frob)\n",
    "plt.title('Расстояние Фробениуса между M и PLUQ как функция от epsilon')"
   ]
  },
  {
   "cell_type": "markdown",
   "metadata": {},
   "source": [
    "Для метода LU замечаем расходимость с изначальной матрицей при \n",
    "\n",
    "$$\n",
    " \\epsilon \\approx 10^{-16}\n",
    "$$"
   ]
  },
  {
   "cell_type": "markdown",
   "metadata": {},
   "source": [
    "Покажем причину расходимости. Для данной матрицы можно посчитать LU разложение аналитически. Получим \n",
    "\n",
    "$$\n",
    " M = LU \n",
    "$$\n",
    "\n",
    "где \n",
    "\n",
    "$$\n",
    " L = \\begin{pmatrix}\n",
    " 1 & 0 & 0 \\\\\n",
    " \\frac{1}{\\epsilon} & 1 & 0 \\\\\n",
    " 0 & \\frac{\\epsilon}{\\epsilon - 1} & 1\n",
    " \\end{pmatrix}\n",
    "$$\n",
    "$$\n",
    " U = \\begin{pmatrix}\n",
    " \\epsilon & 1 & 0 \\\\\n",
    " 0 & \\frac{\\epsilon - 1}{\\epsilon} & 1 \\\\\n",
    " 0 & 0 & \\frac{1}{1-\\epsilon}\n",
    " \\end{pmatrix}\n",
    "$$\n",
    "\n",
    "Как мы видим (показано ниже), при достаточно малых $\\epsilon$, элементы, начиная с $l_{21}$ и $u_{22}$ (на него и должен прийтись основной удар) должны рассчитываться с серьезной ошибкой, связанной с ошибкой машинного округления. В самом деле, при достаточно малых $\\epsilon$ будет иметь место \n",
    "\n",
    "$$\n",
    " u_{22} \\approx -\\frac{1}{\\epsilon}\n",
    "$$\n",
    "\n",
    "Далее, $u_{23}$ и $l_{31}$ не должны поменяться, так как\n",
    "\n",
    "$$\n",
    " \\begin{cases}\n",
    " l_{31}\\epsilon = 0\n",
    " \\\\\n",
    " u_{23} + l_{21}u_{13} = u_{23} = 1 \n",
    " \\end{cases}\n",
    "$$\n",
    "\n",
    "Для $l_{32}$ и $u_{33}$ получим, что \n",
    "\n",
    "$$\n",
    " l_{32}u_{22} = 1 \\quad \\implies \\quad l_{32}\\approx -\\epsilon \n",
    "$$\n",
    "\n",
    "$$\n",
    " u_{33} = 1 - l_{32}u_{23} = 1 + \\epsilon \n",
    "$$\n",
    "\n",
    "Тогда, для матриц $L$ и $U$ получим \n",
    "\n",
    "$$\n",
    " L = \\begin{pmatrix}\n",
    " 1 & 0 & 0 \\\\\n",
    " \\frac{1}{\\epsilon} & 1 & 0 \\\\\n",
    " 0 & -\\epsilon & 1\n",
    " \\end{pmatrix}\n",
    "$$\n",
    "\n",
    "$$\n",
    "U = \\begin{pmatrix}\n",
    " \\epsilon & 1 & 0 \\\\\n",
    " 0 & -\\frac{1}{\\epsilon} & 1 \\\\\n",
    " 0 & 0 & 1 + \\epsilon\n",
    " \\end{pmatrix}\n",
    "$$\n",
    "\n",
    "Перемножение этих матриц дает \n",
    "\n",
    "$$\n",
    " LU = \\begin{pmatrix}\n",
    " \\epsilon & 1 & 0 \\\\\n",
    " 1 & 0 & 1 \\\\\n",
    " 0 & 1 & 1\n",
    " \\end{pmatrix}\n",
    "$$\n",
    "\n",
    "Как мы видим, в центре $0$ вместо $1$. Это связано с тем фактом, что мы из \"маленького\" числа вычитали \"большое\", чем и воспользовались при округлении. Однако, данное округление привело нас к разложению совсем другой матрицы. Похожую ошибку допускает и машина при вычислении $LU$ разложения"
   ]
  },
  {
   "cell_type": "code",
   "execution_count": 194,
   "metadata": {},
   "outputs": [
    {
     "name": "stdout",
     "output_type": "stream",
     "text": [
      "M: [[1.e-19 1.e+00 0.e+00]\n",
      " [1.e+00 1.e+00 1.e+00]\n",
      " [0.e+00 1.e+00 1.e+00]]\n",
      "LU: [[1.e-19 1.e+00 0.e+00]\n",
      " [1.e+00 0.e+00 1.e+00]\n",
      " [0.e+00 1.e+00 1.e+00]]\n",
      "Frobenius norm: 1.0\n",
      "L: [[ 1.e+00  0.e+00  0.e+00]\n",
      " [ 1.e+19  1.e+00  0.e+00]\n",
      " [ 0.e+00 -1.e-19  1.e+00]]\n",
      "U: [[ 1.e-19  1.e+00  0.e+00]\n",
      " [ 0.e+00 -1.e+19  1.e+00]\n",
      " [ 0.e+00  0.e+00  1.e+00]]\n"
     ]
    }
   ],
   "source": [
    "eps = 10e-20\n",
    "id_ord = [t for t in range(n)]\n",
    "n = 3\n",
    "\n",
    "M = np.matrix([[eps, 1, 0], [1, 1, 1], [0, 1, 1]])\n",
    "L, U = lu_standard(M)\n",
    "LU_Frob = np.linalg.norm(M - L @ U)\n",
    "\n",
    "print(f'M: {M}')\n",
    "print(f'LU: {L @ U}')\n",
    "print(f'Frobenius norm: {LU_Frob}')\n",
    "print(f'L: {L}')\n",
    "print(f'U: {U}')"
   ]
  },
  {
   "cell_type": "markdown",
   "metadata": {},
   "source": [
    "### 3. Блочное LU разложение (6 pts)\n",
    "\n",
    "Пусть $A = \\begin{bmatrix} A_{11} & A_{12} \\\\ A_{21} & A_{22} \\end{bmatrix}$ – блочная матрица. Необходимо решить систему линейных уравнений вида\n",
    "\n",
    "$$\n",
    "     \\begin{bmatrix} A_{11} & A_{12} \\\\ A_{21} & A_{22} \\end{bmatrix} \\begin{bmatrix} u_1 \\\\ u_2 \\end{bmatrix} = \\begin{bmatrix} f_1 \\\\ f_2 \\end{bmatrix}.\n",
    "$$\n",
    "\n",
    "* (2 pts) Используя процедуру блочного исключения, найдите матрицу $S$ и правую часть $\\hat{f_2}$ такую что $u_2$ может быть найден из системы $S u_2 = \\hat{f_2}$. Матрица $S$ называется <font color='red'> дополнением по Шуру </font> блока  $A_{11}$.\n",
    "\n",
    "* (4 pts) Пусть $A_{12} = A_{21}^\\top$. Покажите, что если $A_{22} \\succ 0$, то $A \\succ 0 \\Leftrightarrow A_{11} - A_{12} A_{22}^{-1} A_{21} \\succ 0$ \n",
    "\n"
   ]
  },
  {
   "cell_type": "markdown",
   "metadata": {},
   "source": [
    "### Problem 1\n",
    "\n",
    "Представим исходную матрицу $A$ в виде блочного $LU$ разложения (для этого достаточно предположить невырожденность $A_{11}$ и $A_{22}$) \n",
    "\n",
    "$$\n",
    " \\begin{pmatrix}\n",
    "  A_{11} & A_{12} \\\\\n",
    "  A_{21} & A_{22}\n",
    " \\end{pmatrix} = \n",
    " \\begin{pmatrix}\n",
    "  L_{11} & 0 \\\\\n",
    "  L_{21} & L_{22}\n",
    " \\end{pmatrix}\n",
    " \\begin{pmatrix}\n",
    "  U_{11} & U_{12} \\\\\n",
    "  0 & U_{22}\n",
    " \\end{pmatrix} = \n",
    " \\begin{pmatrix}\n",
    "  L_{11}U_{11} & L_{11}U_{12} \\\\\n",
    "  L_{21}U_{11} & L_{21}U_{12} + L_{22}U_{22}\n",
    " \\end{pmatrix}\n",
    "$$\n",
    "\n",
    "Чтобы подобрать представление, положим $L_{11} = I_{p}$, а $L_{22} = I_{q}$. Тогда \n",
    "\n",
    "$$\n",
    " \\begin{cases}\n",
    "  L_{11}U_{11} = A_{11}\n",
    "  \\\\\n",
    "  L_{11}U_{12} = A_{12} \n",
    "  \\\\\n",
    "  L_{21}U_{11} = A_{21}\n",
    "  \\\\\n",
    "  L_{21}U_{12} + L_{22}U_{22} = A_{22}\n",
    "  \\\\\n",
    "  L_{11} = I_{p}\n",
    "  \\\\\n",
    "  L_{22} = I_{q}\n",
    " \\end{cases}\n",
    "$$\n",
    "\n",
    "Данную систему несложно разрешить. Получим \n",
    "\n",
    "$$\n",
    " L = \\begin{pmatrix}\n",
    " I_{p} & 0 \\\\\n",
    " A_{21}A_{11}^{-1} & I_{q}\n",
    " \\end{pmatrix}\n",
    "$$\n",
    "\n",
    "$$\n",
    " U = \\begin{pmatrix}\n",
    "  A_{11} & A_{12} \\\\\n",
    "  0 & A_{22} - A_{21}A_{11}^{-1}A_{12}\n",
    " \\end{pmatrix}\n",
    "$$\n",
    "\n",
    "Далее, исходное уравнение можно представить в виде \n",
    "\n",
    "$$\n",
    " LU\\begin{pmatrix} u_1 \\\\ u_2 \\end{pmatrix} = \\begin{pmatrix} f_1 \\\\ f_2 \\end{pmatrix}\n",
    "$$\n",
    "\n",
    "и переписать как \n",
    "\n",
    "$$\n",
    " U\\begin{pmatrix} u_1 \\\\ u_2 \\end{pmatrix} = L^{-1}\\begin{pmatrix} f_1 \\\\ f_2 \\end{pmatrix}\n",
    "$$\n",
    "\n",
    "где \n",
    "\n",
    "$$\n",
    " L^{-1} = \\begin{pmatrix}\n",
    " I_{p} & 0 \\\\\n",
    " -A_{21}A_{11}^{-1} & I_{q}\n",
    " \\end{pmatrix}\n",
    "$$\n",
    "\n",
    "Тогда, мы можем заключить, что $u_2$ может быть найден из системы \n",
    "\n",
    "$$\n",
    " Su_2 = \\hat{f}_2\n",
    "$$\n",
    "\n",
    "где\n",
    "\n",
    "$$\n",
    " \\begin{cases}\n",
    "  S = A_{22} - A_{21}A_{11}^{-1}A_{12}\n",
    "  \\\\\n",
    "  \\hat{f}_2 = f_2 - A_{21}A_{11}^{-1}f_1\n",
    " \\end{cases}\n",
    "$$"
   ]
  },
  {
   "cell_type": "markdown",
   "metadata": {},
   "source": [
    "### Problem 2\n",
    "\n",
    "Мне было бы удобнее переформулировать задачу для $A_{11}$, так как я буду использовать результат предыдущей задачи. В случае $A_{22}$ все доказывается аналогично с соответствующей заменой $1$ на $2$. Итак, в предыдущей задаче было показано, что матрицу $A$ можно представить в виде \n",
    "\n",
    "$$\n",
    " A = \\begin{pmatrix}\n",
    " I_{p} & 0 \\\\\n",
    " A_{21}A_{11}^{-1} & I_{q}\n",
    " \\end{pmatrix} \n",
    " \\begin{pmatrix}\n",
    "  A_{11} & A_{12} \\\\\n",
    "  0 & A_{22} - A_{21}A_{11}^{-1}A_{12}\n",
    " \\end{pmatrix}\n",
    "$$\n",
    "\n",
    "Далее, матрицу $U$ можно записать в виде произведения \n",
    "\n",
    "$$\n",
    " \\begin{pmatrix}\n",
    "  A_{11} & A_{12} \\\\\n",
    "  0 & A_{22} - A_{21}A_{11}^{-1}A_{12}\n",
    " \\end{pmatrix} = \n",
    " \\begin{pmatrix}\n",
    "  A_{11} & 0 \\\\\n",
    "  0 & A_{22} - A_{21}A_{11}^{-1}A_{12}\n",
    " \\end{pmatrix} \n",
    " \\begin{pmatrix}\n",
    " I_{p} & A_{11}^{-1}A_{12} \\\\\n",
    " 0 & I_{q}\n",
    " \\end{pmatrix}\n",
    "$$\n",
    "\n",
    "Таким, образом, мы можем представить матрицу в виде произведения ($C$ - невырождена)\n",
    "\n",
    "$$\n",
    " A = C^T\\tilde{A}C\n",
    "$$\n",
    "\n",
    "где \n",
    "\n",
    "$$\n",
    " \\tilde{A} = \\begin{pmatrix}\n",
    "  A_{11} & 0 \\\\\n",
    "  0 & A_{22} - A_{21}A_{11}^{-1}A_{12}\n",
    " \\end{pmatrix}\n",
    "$$\n",
    "\n",
    "соответсвует некоторой квадратичной форме. Далее, мы можем домножить слева и справа на обратные матрицы $C^T$ и $C$ и получить \n",
    "\n",
    "$$\n",
    " \\tilde{A} = (C^T)^{-1}AC^{-1}\n",
    "$$\n",
    "\n",
    "Пусть $A \\succ 0$. Из равенства выше следует положительная определенность матрицы $\\tilde{A} \\succ 0$. Так как эта матрица имеет блочно-диагональный вид, то ее блоки обязаны соответствовать положительно определенным формам\n",
    "\n",
    "$$\n",
    " \\begin{cases}\n",
    " A_{11} \\succ 0 \n",
    " \\\\\n",
    " A_{22} - A_{21}A_{11}^{-1}A_{12} \\succ 0\n",
    " \\end{cases}\n",
    "$$\n",
    "\n",
    "Теперь, пусть $A_{22} - A_{21}A_{11}^{-1}A_{12} \\succ 0$. Используя тот факт, что $A_{11} \\succ 0$, и что матрица $\\tilde{A}$ имеет блочнодиагональный вид, придем к выводу, что \n",
    "\n",
    "$$\n",
    " \\tilde{A} \\succ 0\n",
    "$$\n",
    "\n",
    "Далее, используя выражение ($C$ невырождена)\n",
    "\n",
    "$$\n",
    " A = C^T\\tilde{A}C\n",
    "$$\n",
    "\n",
    "придем к выводу, что матрица $A$ соответсвует положительно определенной квадратичной форме. "
   ]
  }
 ],
 "metadata": {
  "kernelspec": {
   "display_name": "Python 3 (ipykernel)",
   "language": "python",
   "name": "python3"
  },
  "language_info": {
   "codemirror_mode": {
    "name": "ipython",
    "version": 3
   },
   "file_extension": ".py",
   "mimetype": "text/x-python",
   "name": "python",
   "nbconvert_exporter": "python",
   "pygments_lexer": "ipython3",
   "version": "3.9.13"
  }
 },
 "nbformat": 4,
 "nbformat_minor": 2
}
